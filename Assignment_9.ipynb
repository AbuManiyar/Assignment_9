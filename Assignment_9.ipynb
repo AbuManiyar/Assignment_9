{
  "nbformat": 4,
  "nbformat_minor": 0,
  "metadata": {
    "colab": {
      "provenance": []
    },
    "kernelspec": {
      "name": "python3",
      "display_name": "Python 3"
    },
    "language_info": {
      "name": "python"
    }
  },
  "cells": [
    {
      "cell_type": "markdown",
      "source": [
        "# Question 01.\n",
        "What is a lambda function in Python, and how does it differ from a regular function?"
      ],
      "metadata": {
        "id": "Fgu8_fYxyjpT"
      }
    },
    {
      "cell_type": "markdown",
      "source": [
        "**Ans:** Lambda functions are very small functions they have only one line of\n",
        "expression and it is automatically return value of that expression without\n",
        "return keyword. And this is the difference between lambda function and\n",
        "regular fuction. lambda function does not uses the def keyword for\n",
        "declaration of function."
      ],
      "metadata": {
        "id": "yVruA5MGy5sD"
      }
    },
    {
      "cell_type": "markdown",
      "source": [
        "#Question 02.\n",
        "Can a lambda function in Python have multiple arguments? If yes, how can you define and use\n",
        "them?"
      ],
      "metadata": {
        "id": "3J1w6Z7JzLga"
      }
    },
    {
      "cell_type": "markdown",
      "source": [
        "**Ans:** Yes lambda functions can have multiple arguements. The below line of code explains it,"
      ],
      "metadata": {
        "id": "EWW9EHfZzbBb"
      }
    },
    {
      "cell_type": "code",
      "source": [
        "#here a is lambda function which accepts two arguments and we can pass x and y as follows\n",
        "a= lambda x,y : x**y\n",
        "result = a(3,2)"
      ],
      "metadata": {
        "id": "ULNqVc98zh7Q"
      },
      "execution_count": 1,
      "outputs": []
    },
    {
      "cell_type": "code",
      "execution_count": 2,
      "metadata": {
        "colab": {
          "base_uri": "https://localhost:8080/"
        },
        "id": "0hmgvPuEyeCQ",
        "outputId": "85cb5cba-b24d-4f4a-d1d3-0ec9777ac6fe"
      },
      "outputs": [
        {
          "output_type": "stream",
          "name": "stdout",
          "text": [
            "9\n"
          ]
        }
      ],
      "source": [
        "print(result)"
      ]
    },
    {
      "cell_type": "code",
      "source": [
        "#we can also take two values of x and y from user as follows\n",
        "num1= int(input(\"first number = \"))\n",
        "num2 = int(input(\"second number = \"))\n",
        "result = a(num1,num2) #we can print result\n",
        "\n",
        "print(f\"{num1}^{num2} =\",result)"
      ],
      "metadata": {
        "colab": {
          "base_uri": "https://localhost:8080/"
        },
        "id": "FGnShydt0mrJ",
        "outputId": "ca87bc00-3aee-427b-cb39-fe0ea659f94b"
      },
      "execution_count": 5,
      "outputs": [
        {
          "output_type": "stream",
          "name": "stdout",
          "text": [
            "first number = 3\n",
            "second number = 3\n",
            "3^3 = 27\n"
          ]
        }
      ]
    },
    {
      "cell_type": "markdown",
      "source": [
        "#Question 03.\n",
        "How are lambda functions typically used in Python? Provide an example use case."
      ],
      "metadata": {
        "id": "GrISzh220mWZ"
      }
    },
    {
      "cell_type": "markdown",
      "source": [
        "**Ans:** Ans: Lambda funtions are a single line function which return certain\n",
        "specified value. They are generally used with maps(), filter(), reduce(), sorted(). A simple use case :-\n",
        "sorting a list of dictionary\n",
        "suppose, there is a Journey to Go for and we have different options available and each option is represented by a dictionary having the properties like Place, Days, Offer"
      ],
      "metadata": {
        "id": "E4qwtWch11eB"
      }
    },
    {
      "cell_type": "code",
      "source": [
        "tours = [\n",
        "  {\"Place\": \"Hyderabad\" , \"Day\" : 5 , \"offer\": 20000},\n",
        "  {\"Place\": \"Delhi\" , \"Day\" : 4 , \"offer\": 18000},\n",
        "  {\"Place\": \"Kolkata\" , \"Day\" : 2 , \"offer\": 10000},\n",
        "  {\"Place\": \"Bengaluru\" , \"Day\" : 1 , \"offer\": 5000}\n",
        "]"
      ],
      "metadata": {
        "id": "y5zYWOQp1xGi"
      },
      "execution_count": 6,
      "outputs": []
    },
    {
      "cell_type": "code",
      "source": [
        "#and we can get sorting according to offer prices as\n",
        "sorted(tours,key= lambda x: x[\"offer\"])"
      ],
      "metadata": {
        "colab": {
          "base_uri": "https://localhost:8080/"
        },
        "id": "IOY8vrOR2DIi",
        "outputId": "1a655a52-9608-4fc3-915e-cb105e2e9ab1"
      },
      "execution_count": 7,
      "outputs": [
        {
          "output_type": "execute_result",
          "data": {
            "text/plain": [
              "[{'Place': 'Bengaluru', 'Day': 1, 'offer': 5000},\n",
              " {'Place': 'Kolkata', 'Day': 2, 'offer': 10000},\n",
              " {'Place': 'Delhi', 'Day': 4, 'offer': 18000},\n",
              " {'Place': 'Hyderabad', 'Day': 5, 'offer': 20000}]"
            ]
          },
          "metadata": {},
          "execution_count": 7
        }
      ]
    },
    {
      "cell_type": "markdown",
      "source": [
        "#Question 04.\n",
        "What are the advantages and limitations of lambda functions compared to regular functions in\n",
        "Python?"
      ],
      "metadata": {
        "id": "Kqo1Bvrt2a2B"
      }
    },
    {
      "cell_type": "markdown",
      "source": [
        "**Ans:** Advantages of lamda function are\n",
        "\n",
        "* They are small\n",
        "* Simple to code\n",
        "* Can be used to direct return value of function without name or return statement"
      ],
      "metadata": {
        "id": "el81cuiy2i6j"
      }
    },
    {
      "cell_type": "markdown",
      "source": [
        "  Disadvantages of lambda function are\n",
        "* They reduce the readability of the code\n",
        "* difficult to understand for beginners\n",
        "* only single line of code\n"
      ],
      "metadata": {
        "id": "WJxzXbyV3CY6"
      }
    },
    {
      "cell_type": "markdown",
      "source": [
        "#Question 05.\n",
        "Are lambda functions in Python able to access variables defined outside of their own scope? Explain with an example."
      ],
      "metadata": {
        "id": "xaAP50al3asL"
      }
    },
    {
      "cell_type": "markdown",
      "source": [
        "**Ans:**  Yes the lambda function have an access to variables that are outside of there own scope. the function below shows this"
      ],
      "metadata": {
        "id": "9xBwak2o3kUR"
      }
    },
    {
      "cell_type": "code",
      "source": [
        "a= 10\n",
        "x = lambda p : a+p\n",
        "print(x(4))"
      ],
      "metadata": {
        "colab": {
          "base_uri": "https://localhost:8080/"
        },
        "id": "SEAO8yaJ2LOU",
        "outputId": "13ff2fa5-52cb-4a50-a4d0-63d907be4fff"
      },
      "execution_count": 8,
      "outputs": [
        {
          "output_type": "stream",
          "name": "stdout",
          "text": [
            "14\n"
          ]
        }
      ]
    },
    {
      "cell_type": "markdown",
      "source": [
        "#Question 06.\n",
        " Write a lambda function to calculate the square of a given number."
      ],
      "metadata": {
        "id": "DQjJgYAJ38b1"
      }
    },
    {
      "cell_type": "markdown",
      "source": [
        "**Ans:** The example below calcutes the square of a given number using lambda function\n"
      ],
      "metadata": {
        "id": "4_F4-tWv4VtM"
      }
    },
    {
      "cell_type": "code",
      "source": [
        "a = lambda n: n*n\n",
        "num = int(input(\"Enter a number = \"))\n",
        "print(\"Square of\",f\"{num}\" , \"=\",a(num))\n"
      ],
      "metadata": {
        "colab": {
          "base_uri": "https://localhost:8080/"
        },
        "id": "z2YiKgek30JE",
        "outputId": "69d046f5-a14a-4677-86c0-0887521a7afd"
      },
      "execution_count": 9,
      "outputs": [
        {
          "output_type": "stream",
          "name": "stdout",
          "text": [
            "Enter a number = 7\n",
            "Square of 7 = 49\n"
          ]
        }
      ]
    },
    {
      "cell_type": "markdown",
      "source": [
        "#Question 07.\n",
        "Create a lambda function to find the maximum value in a list of integers."
      ],
      "metadata": {
        "id": "K0XolL-r40zx"
      }
    },
    {
      "cell_type": "markdown",
      "source": [
        "**Ans:**  The example below impements lambda function to find maximum value in a list of integers"
      ],
      "metadata": {
        "id": "vpcSiFQR4-v4"
      }
    },
    {
      "cell_type": "code",
      "source": [
        "l = [3,43,2,74]\n",
        "maxlist = lambda i : max(i)\n",
        "print(\"maximum = \", maxlist(l))"
      ],
      "metadata": {
        "colab": {
          "base_uri": "https://localhost:8080/"
        },
        "id": "JC-Hmu--4LKx",
        "outputId": "99078025-9c9c-4962-920c-0338c22d1d27"
      },
      "execution_count": 11,
      "outputs": [
        {
          "output_type": "stream",
          "name": "stdout",
          "text": [
            "maximum =  74\n"
          ]
        }
      ]
    },
    {
      "cell_type": "code",
      "source": [
        "num = [1,2,3,4,5,6,7,9,4]\n",
        "even_num = list(filter(lambda n: n%2==0, num))\n",
        "print(even_num)"
      ],
      "metadata": {
        "colab": {
          "base_uri": "https://localhost:8080/"
        },
        "id": "_kSSZpQO5jMR",
        "outputId": "d5f2562e-305c-4dbf-8355-9f5b1c8cfa4e"
      },
      "execution_count": 12,
      "outputs": [
        {
          "output_type": "stream",
          "name": "stdout",
          "text": [
            "[2, 4, 6, 4]\n"
          ]
        }
      ]
    },
    {
      "cell_type": "markdown",
      "source": [
        "#Question 08.\n",
        "**Ans:** Implement a lambda function to filter out all the even numbers from a list of integers"
      ],
      "metadata": {
        "id": "zjAfrBgJ6DsF"
      }
    },
    {
      "cell_type": "code",
      "source": [
        "num = [1,2,3,4,5,6,7,9,4]\n",
        "even_num = list(filter(lambda n: n%2==0, num))\n",
        "print(even_num)\n"
      ],
      "metadata": {
        "colab": {
          "base_uri": "https://localhost:8080/"
        },
        "id": "BfanZv0a6lPm",
        "outputId": "a71ba83e-09f6-440b-e0af-e9ed7da308ff"
      },
      "execution_count": 13,
      "outputs": [
        {
          "output_type": "stream",
          "name": "stdout",
          "text": [
            "[2, 4, 6, 4]\n"
          ]
        }
      ]
    },
    {
      "cell_type": "markdown",
      "source": [
        "#Question 09.\n",
        "Write a lambda function to sort a list of strings in ascending order based on the length of each\n",
        "string."
      ],
      "metadata": {
        "id": "UMYwP8wB7zjN"
      }
    },
    {
      "cell_type": "markdown",
      "source": [
        "**Ans:** The programme below shows the following"
      ],
      "metadata": {
        "id": "G9CXpgKP77Lu"
      }
    },
    {
      "cell_type": "code",
      "source": [
        "l2= [\"aa\", \"ssj\", \"o\"]\n",
        "updatedList = sorted(l2, key = lambda x: len(x))\n",
        "print(updatedList)"
      ],
      "metadata": {
        "colab": {
          "base_uri": "https://localhost:8080/"
        },
        "id": "oicndwMz7isL",
        "outputId": "6ba45751-d11b-4e26-99a5-d81d05e1ab81"
      },
      "execution_count": 15,
      "outputs": [
        {
          "output_type": "stream",
          "name": "stdout",
          "text": [
            "['o', 'aa', 'ssj']\n"
          ]
        }
      ]
    },
    {
      "cell_type": "markdown",
      "source": [
        "#Question 10.\n",
        "Create a lambda function that takes two lists as input and returns a new list containing the\n",
        "common elements between the two lists.\n"
      ],
      "metadata": {
        "id": "hi0xfu5o9FAU"
      }
    },
    {
      "cell_type": "markdown",
      "source": [
        "**Ans:** The below code shows the implementation"
      ],
      "metadata": {
        "id": "UTaLIIkV_LPI"
      }
    },
    {
      "cell_type": "code",
      "source": [
        "l1 = [2,3,4,5]\n",
        "l2 = [3,2,1]\n",
        "c = lambda x,y : list(set(x).intersection(set(y)))\n",
        "c(l1,l2) #c is a lambda function"
      ],
      "metadata": {
        "colab": {
          "base_uri": "https://localhost:8080/"
        },
        "id": "tn8kRcmr_CH7",
        "outputId": "f2ee1fd5-fbf8-41b4-9542-2ae3c3cb9d0f"
      },
      "execution_count": 19,
      "outputs": [
        {
          "output_type": "execute_result",
          "data": {
            "text/plain": [
              "[2, 3]"
            ]
          },
          "metadata": {},
          "execution_count": 19
        }
      ]
    },
    {
      "cell_type": "markdown",
      "source": [
        "#Question 11.\n",
        "Write a recursive function to calculate the factorial of a given positive integer."
      ],
      "metadata": {
        "id": "d6tKO0G2Aqaj"
      }
    },
    {
      "cell_type": "markdown",
      "source": [
        "**Ans:** Given below is a recursive function to calculate the factorial of a given positive integer"
      ],
      "metadata": {
        "id": "9zf9GuOUAxYE"
      }
    },
    {
      "cell_type": "code",
      "source": [
        "def fact(n):\n",
        "  if n<=0 : return None\n",
        "  if n==1: return 1\n",
        "  else: return n * fact(n-1)\n",
        "num = int(input(\"Number = \"))\n",
        "print(\"Factorial =\", fact(num))\n"
      ],
      "metadata": {
        "colab": {
          "base_uri": "https://localhost:8080/"
        },
        "id": "oJZY78ylARTA",
        "outputId": "333684e8-a07b-46e8-fd80-b80c547b7fd4"
      },
      "execution_count": 20,
      "outputs": [
        {
          "output_type": "stream",
          "name": "stdout",
          "text": [
            "Number = 5\n",
            "Factorial = 120\n"
          ]
        }
      ]
    },
    {
      "cell_type": "markdown",
      "source": [
        "#Question 12.\n",
        "Implement a recursive function to compute the nth Fibonacci number.\n"
      ],
      "metadata": {
        "id": "gC2uIKkNBkBY"
      }
    },
    {
      "cell_type": "markdown",
      "source": [
        "**Ans:** This can be done as follows"
      ],
      "metadata": {
        "id": "1dMPmkp0Ccc0"
      }
    },
    {
      "cell_type": "code",
      "source": [
        "# 0,1,1,2,3,5,8,13,21....\n",
        "def fib(n):\n",
        "   if n==1: return 0\n",
        "   if n==2: return 1\n",
        "   else : return fib(n-2) + fib(n-1)\n",
        "num = int(input(\"Number = \"))\n",
        "print(\"Fibonacci  =\", fib(num))"
      ],
      "metadata": {
        "colab": {
          "base_uri": "https://localhost:8080/"
        },
        "id": "rplhduzvBRhT",
        "outputId": "33466e9a-5d02-4d61-9055-5e19a42d390b"
      },
      "execution_count": 26,
      "outputs": [
        {
          "output_type": "stream",
          "name": "stdout",
          "text": [
            "Number = 8\n",
            "Fibonacci  = 13\n"
          ]
        }
      ]
    },
    {
      "cell_type": "markdown",
      "source": [
        "#Question 13.\n",
        " Create a recursive function to find the sum of all the elements in a given list."
      ],
      "metadata": {
        "id": "xCb3SpsMCkr7"
      }
    },
    {
      "cell_type": "markdown",
      "source": [
        "**Ans:** The following code calculates sum of list"
      ],
      "metadata": {
        "id": "E35DSUWjCwSe"
      }
    },
    {
      "cell_type": "code",
      "source": [
        "given_list =[4,3,2,5,1,7,76,36]\n",
        "def slist(n):\n",
        "   if n ==2 : return given_list[0] + given_list[1]\n",
        "   else: return given_list[n-1] + slist(n-1)\n",
        "\n",
        "s = slist(len(given_list))\n",
        "print(\"sum =\",s)"
      ],
      "metadata": {
        "colab": {
          "base_uri": "https://localhost:8080/"
        },
        "id": "q0DDkWM0Byrm",
        "outputId": "7691c95a-a613-4b22-bc21-93054ba78884"
      },
      "execution_count": 27,
      "outputs": [
        {
          "output_type": "stream",
          "name": "stdout",
          "text": [
            "sum = 134\n"
          ]
        }
      ]
    },
    {
      "cell_type": "markdown",
      "source": [
        "#Question 14.\n",
        " Write a recursive function to determine whether a given string is a palindrome."
      ],
      "metadata": {
        "id": "1vy3iGPwDDxc"
      }
    },
    {
      "cell_type": "markdown",
      "source": [
        "**Ans:** Recursive function is"
      ],
      "metadata": {
        "id": "agGQGIjpDM4m"
      }
    },
    {
      "cell_type": "code",
      "source": [
        "def palindrome(s,i):\n",
        "  if i == len(s)//2 :\n",
        "    return True\n",
        "  elif s[i] == s[len(s)-1-i]:\n",
        "    i+=1\n",
        "    return True and palindrome(s,i)\n",
        "  else: return False\n",
        "\n",
        "print(palindrome(\"aBbba\",0))\n",
        "print(palindrome(\"abbba\",0))\n",
        "print(palindrome(\"abba\",0))\n",
        "print(palindrome(\"ab\",0))\n"
      ],
      "metadata": {
        "colab": {
          "base_uri": "https://localhost:8080/"
        },
        "id": "zg5oeinuC_7F",
        "outputId": "b36ecaed-0500-4fd6-d177-f724bedf6b8e"
      },
      "execution_count": 28,
      "outputs": [
        {
          "output_type": "stream",
          "name": "stdout",
          "text": [
            "False\n",
            "True\n",
            "True\n",
            "False\n"
          ]
        }
      ]
    },
    {
      "cell_type": "markdown",
      "source": [
        "#Question 15.\n",
        "Implement a recursive function to find the greatest common divisor (GCD) of two positive integers."
      ],
      "metadata": {
        "id": "ezt8ueO7De-e"
      }
    },
    {
      "cell_type": "markdown",
      "source": [
        "**Ans:** The below programme finds gcd by recursion"
      ],
      "metadata": {
        "id": "f3eOI7dTDpOM"
      }
    },
    {
      "cell_type": "code",
      "source": [
        "def gcd(a,b):\n",
        "  r = a%b\n",
        "  if r == 0:\n",
        "    return print(b)\n",
        "  else: return gcd( b, r)\n",
        "\n",
        "gcd(25,15)\n"
      ],
      "metadata": {
        "colab": {
          "base_uri": "https://localhost:8080/"
        },
        "id": "gOYhC9fUDarD",
        "outputId": "3e9a6b1e-4872-447d-e58d-55ce85b21302"
      },
      "execution_count": 29,
      "outputs": [
        {
          "output_type": "stream",
          "name": "stdout",
          "text": [
            "5\n"
          ]
        }
      ]
    },
    {
      "cell_type": "code",
      "source": [],
      "metadata": {
        "id": "Y1Pm89YhD2MI"
      },
      "execution_count": null,
      "outputs": []
    }
  ]
}